{
 "cells": [
  {
   "cell_type": "code",
   "execution_count": 1,
   "metadata": {},
   "outputs": [
    {
     "name": "stdout",
     "output_type": "stream",
     "text": [
      "5.427783977918077\n"
     ]
    }
   ],
   "source": [
    "import numpy as np\n",
    "\n",
    "R0 = 7.83\n",
    "t0 = 60\n",
    "R1 = 1.346\n",
    "t1 = 300\n",
    "R2 = 0.976\n",
    "t2 = 300\n",
    "R = 0.23\n",
    "t = 300\n",
    "a = 7.6\n",
    "n = 2.75\n",
    "\n",
    "DeltaLambda = 100*(np.power((np.log(R0-R)-np.log(R2-R))/a, 1/n) - np.power((np.log(R0-R)-np.log(R1-R))/a, 1/n))\n",
    "\n",
    "print(DeltaLambda)"
   ]
  }
 ],
 "metadata": {
  "kernelspec": {
   "display_name": "Python 3",
   "language": "python",
   "name": "python3"
  },
  "language_info": {
   "codemirror_mode": {
    "name": "ipython",
    "version": 3
   },
   "file_extension": ".py",
   "mimetype": "text/x-python",
   "name": "python",
   "nbconvert_exporter": "python",
   "pygments_lexer": "ipython3",
   "version": "3.7.0"
  }
 },
 "nbformat": 4,
 "nbformat_minor": 2
}
